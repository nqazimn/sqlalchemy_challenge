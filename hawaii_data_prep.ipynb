{
 "cells": [
  {
   "cell_type": "code",
   "execution_count": 14,
   "metadata": {},
   "outputs": [],
   "source": [
    "# Python SQL toolkit and Object Relational Mapper\n",
    "import sqlalchemy\n",
    "from sqlalchemy.ext.automap import automap_base\n",
    "from sqlalchemy.orm import Session\n",
    "from sqlalchemy import create_engine, func, inspect\n",
    "\n",
    "import datetime as dt\n",
    "from dateutil.relativedelta import relativedelta #source: https://dateutil.readthedocs.io/en/stable/\n",
    "\n",
    "# Custom functions file this project\n",
    "from my_functions import get_date_str, declutter_plot\n",
    "\n",
    "import pandas as pd\n",
    "import numpy as np\n",
    "import matplotlib.pyplot as plt\n",
    "import matplotlib.dates as mdates\n",
    "import os\n",
    "\n",
    "# Adding options to display all of the rows of DataFrame w/o truncation\n",
    "pd.set_option('display.max_rows', None)\n",
    "pd.set_option('display.max_columns', None)"
   ]
  },
  {
   "cell_type": "code",
   "execution_count": 2,
   "metadata": {},
   "outputs": [],
   "source": [
    "# Set-up tentative vacation dates in 2020\n",
    "start_date_of_vacation = dt.datetime(2020, 9, 8)\n",
    "end_date_of_vacation = dt.datetime(2020, 9, 18)"
   ]
  },
  {
   "cell_type": "code",
   "execution_count": 3,
   "metadata": {},
   "outputs": [],
   "source": [
    "engine = create_engine(\"sqlite:///Resources/hawaii.sqlite\")"
   ]
  },
  {
   "cell_type": "code",
   "execution_count": 4,
   "metadata": {},
   "outputs": [
    {
     "name": "stdout",
     "output_type": "stream",
     "text": [
      "['measurement', 'station']\n"
     ]
    }
   ],
   "source": [
    "inspector = inspect(engine)\n",
    "table_names = inspector.get_table_names()\n",
    "print(table_names)"
   ]
  },
  {
   "cell_type": "code",
   "execution_count": 5,
   "metadata": {},
   "outputs": [
    {
     "name": "stdout",
     "output_type": "stream",
     "text": [
      "Table: 'measurement' contains 5 columns. \n",
      "id, INTEGER\n",
      "station, TEXT\n",
      "date, TEXT\n",
      "prcp, FLOAT\n",
      "tobs, FLOAT\n",
      "\n",
      "\n",
      "Table: 'station' contains 6 columns. \n",
      "id, INTEGER\n",
      "station, TEXT\n",
      "name, TEXT\n",
      "latitude, FLOAT\n",
      "longitude, FLOAT\n",
      "elevation, FLOAT\n",
      "\n",
      "\n"
     ]
    }
   ],
   "source": [
    "for table in table_names:    \n",
    "    columns_in_table = inspector.get_columns(table)\n",
    "    print(f\"Table: '{table}' contains {len(columns_in_table)} columns. \")\n",
    "    \n",
    "    for column in columns_in_table:\n",
    "        print(f'{column[\"name\"]}, {column[\"type\"]}')\n",
    "    print('\\n')"
   ]
  },
  {
   "cell_type": "code",
   "execution_count": 6,
   "metadata": {},
   "outputs": [
    {
     "data": {
      "text/plain": [
       "['measurement', 'station']"
      ]
     },
     "execution_count": 6,
     "metadata": {},
     "output_type": "execute_result"
    }
   ],
   "source": [
    "# reflect an existing database into a new model\n",
    "Base = automap_base()\n",
    "# reflect the tables\n",
    "Base.prepare(engine, reflect=True)\n",
    "\n",
    "# sanity check for columns read\n",
    "Base.classes.keys()"
   ]
  },
  {
   "cell_type": "code",
   "execution_count": 7,
   "metadata": {},
   "outputs": [],
   "source": [
    "# Save references to each table\n",
    "Measurement = Base.classes.measurement\n",
    "Station = Base.classes.station"
   ]
  },
  {
   "cell_type": "code",
   "execution_count": 8,
   "metadata": {},
   "outputs": [],
   "source": [
    "session = Session(engine)"
   ]
  },
  {
   "cell_type": "markdown",
   "metadata": {},
   "source": [
    "## Exploratory Climate Analysis"
   ]
  },
  {
   "cell_type": "markdown",
   "metadata": {},
   "source": [
    " ### 1. Last 12 months of precicpitation data"
   ]
  },
  {
   "cell_type": "code",
   "execution_count": 9,
   "metadata": {},
   "outputs": [
    {
     "name": "stdout",
     "output_type": "stream",
     "text": [
      "(19550, 'USC00516128', '2017-08-23', 0.45, 76.0)\n"
     ]
    }
   ],
   "source": [
    "# Find most recent data entry in the data set\n",
    "result = session.query(Measurement.id, \\\n",
    "                        Measurement.station, \\\n",
    "                        Measurement.date, \\\n",
    "                        Measurement.prcp, \\\n",
    "                        Measurement.tobs).\\\n",
    "                        order_by(Measurement.id.desc()).\\\n",
    "                        first()\n",
    "print(result)"
   ]
  },
  {
   "cell_type": "code",
   "execution_count": 10,
   "metadata": {},
   "outputs": [
    {
     "name": "stdout",
     "output_type": "stream",
     "text": [
      "Date of last entry in the database: Aug 23, 2017\n",
      "Twelve months prior date: Aug 23, 2016\n"
     ]
    }
   ],
   "source": [
    "# Grab the most recent entry in the database and find 12 month prior date programatically\n",
    "most_recent_entry_date = result[2]\n",
    "most_recent_entry_date = dt.datetime.strptime(most_recent_entry_date, '%Y-%m-%d')\n",
    "print(f'Date of last entry in the database: {most_recent_entry_date.strftime(\"%b\")} {most_recent_entry_date.day}, {most_recent_entry_date.year}')\n",
    "\n",
    "twelve_months_prior_date = most_recent_entry_date - relativedelta(months=12)\n",
    "print(f'Twelve months prior date: {twelve_months_prior_date.strftime(\"%b\")} {twelve_months_prior_date.day}, {twelve_months_prior_date.year}')"
   ]
  },
  {
   "cell_type": "code",
   "execution_count": 11,
   "metadata": {},
   "outputs": [
    {
     "name": "stdout",
     "output_type": "stream",
     "text": [
      "2230\n"
     ]
    }
   ],
   "source": [
    "# Retrieve last 12 months of precipitation data from the most recent entry in the database\n",
    "results = session.query(Measurement.date,\\\n",
    "                       Measurement.prcp).\\\n",
    "                       filter(func.strftime(\"%Y-%m-%d\", Measurement.date) >= get_date_str(twelve_months_prior_date)).\\\n",
    "                       all()\n",
    "# Sanity check\n",
    "print(len(results))"
   ]
  },
  {
   "cell_type": "code",
   "execution_count": 12,
   "metadata": {},
   "outputs": [
    {
     "data": {
      "text/html": [
       "<div>\n",
       "<style scoped>\n",
       "    .dataframe tbody tr th:only-of-type {\n",
       "        vertical-align: middle;\n",
       "    }\n",
       "\n",
       "    .dataframe tbody tr th {\n",
       "        vertical-align: top;\n",
       "    }\n",
       "\n",
       "    .dataframe thead th {\n",
       "        text-align: right;\n",
       "    }\n",
       "</style>\n",
       "<table border=\"1\" class=\"dataframe\">\n",
       "  <thead>\n",
       "    <tr style=\"text-align: right;\">\n",
       "      <th></th>\n",
       "      <th>precipitation</th>\n",
       "    </tr>\n",
       "    <tr>\n",
       "      <th>date</th>\n",
       "      <th></th>\n",
       "    </tr>\n",
       "  </thead>\n",
       "  <tbody>\n",
       "    <tr>\n",
       "      <th>2016-08-23</th>\n",
       "      <td>0.00</td>\n",
       "    </tr>\n",
       "    <tr>\n",
       "      <th>2016-08-24</th>\n",
       "      <td>0.08</td>\n",
       "    </tr>\n",
       "    <tr>\n",
       "      <th>2016-08-25</th>\n",
       "      <td>0.08</td>\n",
       "    </tr>\n",
       "    <tr>\n",
       "      <th>2016-08-26</th>\n",
       "      <td>0.00</td>\n",
       "    </tr>\n",
       "    <tr>\n",
       "      <th>2016-08-27</th>\n",
       "      <td>0.00</td>\n",
       "    </tr>\n",
       "  </tbody>\n",
       "</table>\n",
       "</div>"
      ],
      "text/plain": [
       "            precipitation\n",
       "date                     \n",
       "2016-08-23           0.00\n",
       "2016-08-24           0.08\n",
       "2016-08-25           0.08\n",
       "2016-08-26           0.00\n",
       "2016-08-27           0.00"
      ]
     },
     "execution_count": 12,
     "metadata": {},
     "output_type": "execute_result"
    }
   ],
   "source": [
    "date_list = [row[0] for row in results]\n",
    "precipitation_list = [row[1] for row in results]\n",
    "\n",
    "precipitation_df = pd.DataFrame(results, columns=['date', 'precipitation'])\n",
    "precipitation_df = precipitation_df.set_index('date')\n",
    "precipitation_df.head()"
   ]
  },
  {
   "cell_type": "code",
   "execution_count": null,
   "metadata": {},
   "outputs": [],
   "source": [
    "# write out precipitation_df to csv for analysis\n",
    "# output_path = os.path.join('Outputs','precipitation_df.csv')\n",
    "# precipitation_df.to_csv(output_path)"
   ]
  },
  {
   "cell_type": "code",
   "execution_count": 82,
   "metadata": {},
   "outputs": [
    {
     "data": {
      "image/png": "[encoded data removed]",
      "text/plain": [
       "<Figure size 1152x432 with 1 Axes>"
      ]
     },
     "metadata": {
      "needs_background": "dark"
     },
     "output_type": "display_data"
    }
   ],
   "source": [
    "fig1, ax1 = plt.subplots(figsize=(16,6))\n",
    "x_values = [dt.datetime.strptime(xval, '%Y-%m-%d') for xval in list(precipitation_df.reset_index()['date'])];\n",
    "x_values = np.array(x_values)\n",
    "y_values = list(precipitation_df['precipitation'])\n",
    "\n",
    "# years = mdates.YearLocator()   # every year\n",
    "# days = mdates.DayLocator()  # every day\n",
    "# years_fmt = mdates.DateFormatter('%Y')\n",
    "months = mdates.MonthLocator()  # every month\n",
    "months_fmt = mdates.DateFormatter(\"%b\\n%Y\")\n",
    "\n",
    "ax1.bar(x_values, y_values, width=1.2)\n",
    "\n",
    "# format the ticks\n",
    "ax1.xaxis.set_major_locator(months)\n",
    "ax1.xaxis.set_major_formatter(months_fmt)\n",
    "\n",
    "ax1.set_ylim([0,7]);\n",
    "declutter_plot(ax1)\n",
    "ax1.set_ylabel('Precipitation', fontsize=14)\n",
    "ax1.set_xlabel('Date', fontsize=14)\n",
    "ax1.tick_params(axis='both', which='major', labelsize=14)\n",
    "ax1.set_title('Precipitation on Hawaii in past 12 months.', fontsize = 16);\n",
    "# plt.savefig(\"Outputs/Images/precipitation.png\", bbox_inches = 'tight', pad_inches = 1.0)\n",
    "plt.show()"
   ]
  },
  {
   "cell_type": "code",
   "execution_count": null,
   "metadata": {},
   "outputs": [],
   "source": []
  }
 ],
 "metadata": {
  "kernelspec": {
   "display_name": "Python 3",
   "language": "python",
   "name": "python3"
  },
  "language_info": {
   "codemirror_mode": {
    "name": "ipython",
    "version": 3
   },
   "file_extension": ".py",
   "mimetype": "text/x-python",
   "name": "python",
   "nbconvert_exporter": "python",
   "pygments_lexer": "ipython3",
   "version": "3.6.9"
  }
 },
 "nbformat": 4,
 "nbformat_minor": 2
}
